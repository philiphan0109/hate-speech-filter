{
 "cells": [
  {
   "cell_type": "code",
   "execution_count": null,
   "metadata": {
    "id": "zX4Kg8DUTKWO"
   },
   "outputs": [],
   "source": [
    "#@title Licensed under the Apache License, Version 2.0 (the \"License\");\n",
    "# you may not use this file except in compliance with the License.\n",
    "# You may obtain a copy of the License at\n",
    "#\n",
    "# https://www.apache.org/licenses/LICENSE-2.0\n",
    "#\n",
    "# Unless required by applicable law or agreed to in writing, software\n",
    "# distributed under the License is distributed on an \"AS IS\" BASIS,\n",
    "# WITHOUT WARRANTIES OR CONDITIONS OF ANY KIND, either express or implied.\n",
    "# See the License for the specific language governing permissions and\n",
    "# limitations under the License."
   ]
  },
  {
   "cell_type": "markdown",
   "metadata": {
    "id": "view-in-github"
   },
   "source": [
    "<a href=\"https://colab.research.google.com/github/lmoroney/dlaicourse/blob/master/TensorFlow%20In%20Practice/Course%203%20-%20NLP/Course%203%20-%20Week%202%20-%20Lesson%202.ipynb\" target=\"_parent\"><img src=\"https://colab.research.google.com/assets/colab-badge.svg\" alt=\"Open In Colab\"/></a>"
   ]
  },
  {
   "cell_type": "code",
   "execution_count": null,
   "metadata": {
    "id": "4gs9htvM7n_x"
   },
   "outputs": [],
   "source": [
    "# Run this to ensure TensorFlow 2.x is used\n",
    "try:\n",
    "  # %tensorflow_version only exists in Colab.\n",
    "  %tensorflow_version 2.x\n",
    "except Exception:\n",
    "  pass"
   ]
  },
  {
   "cell_type": "code",
   "execution_count": 4,
   "metadata": {
    "id": "XYYDvoskkE61"
   },
   "outputs": [],
   "source": [
    "import json\n",
    "import os\n",
    "import pandas as pd\n",
    "import numpy as np\n",
    "import tensorflow as tf\n",
    "\n",
    "from tensorflow.keras.preprocessing.text import Tokenizer\n",
    "from tensorflow.keras.preprocessing.sequence import pad_sequences"
   ]
  },
  {
   "cell_type": "code",
   "execution_count": 2,
   "metadata": {
    "id": "0eJSTTYnkJQd"
   },
   "outputs": [],
   "source": [
    "vocab_size = 10000\n",
    "embedding_dim = 16\n",
    "max_length = 100\n",
    "trunc_type='post'\n",
    "padding_type='post'\n",
    "oov_tok = \"<OOV>\"\n",
    "training_size = 20000\n"
   ]
  },
  {
   "cell_type": "code",
   "execution_count": 5,
   "metadata": {},
   "outputs": [
    {
     "data": {
      "text/plain": [
       "['.ipynb_checkpoints',\n",
       " 'hate-and-offensive',\n",
       " 'Hate_and_Offensive.ipynb',\n",
       " 'online-hate']"
      ]
     },
     "execution_count": 5,
     "metadata": {},
     "output_type": "execute_result"
    }
   ],
   "source": [
    "os.listdir()"
   ]
  },
  {
   "cell_type": "code",
   "execution_count": null,
   "metadata": {
    "colab": {
     "base_uri": "https://localhost:8080/"
    },
    "id": "BQVuQrZNkPn9",
    "outputId": "96868f6b-5b13-4b53-f8e7-cdbc9cb4059f"
   },
   "outputs": [
    {
     "name": "stdout",
     "output_type": "stream",
     "text": [
      "--2022-06-17 04:14:22--  https://github.com/t-davidson/hate-speech-and-offensive-language/blob/master/data/labeled_data.csv\n",
      "Resolving github.com (github.com)... 140.82.112.4\n",
      "Connecting to github.com (github.com)|140.82.112.4|:443... connected.\n",
      "HTTP request sent, awaiting response... 200 OK\n",
      "Length: unspecified [text/html]\n",
      "Saving to: ‘/tmp/hate-and-offensive.csv’\n",
      "\n",
      "/tmp/hate-and-offen     [ <=>                ] 132.63K  --.-KB/s    in 0.007s  \n",
      "\n",
      "2022-06-17 04:14:22 (19.4 MB/s) - ‘/tmp/hate-and-offensive.csv’ saved [135809]\n",
      "\n"
     ]
    }
   ],
   "source": [
    "# !wget --no-check-certificate \\\n",
    "#     https://github.com/t-davidson/hate-speech-and-offensive-language/blob/master/data/labeled_data.csv \\\n",
    "#     -O /tmp/hate-and-offensive.csv\n"
   ]
  },
  {
   "cell_type": "code",
   "execution_count": 6,
   "metadata": {
    "id": "oaLaaqhNkUPd"
   },
   "outputs": [],
   "source": [
    "data = pd.read_csv(os.path.join('hate-and-offensive','data','labeled_data.csv'))  \n",
    "\n",
    "sentences = data['tweet'].tolist()\n",
    "labels = data['class'].tolist()\n",
    "\n",
    "# for item in data:\n",
    "\n",
    "    # sentences.append(item['tweet'])\n",
    "    # labels.append(item['class'])"
   ]
  },
  {
   "cell_type": "code",
   "execution_count": 9,
   "metadata": {},
   "outputs": [
    {
     "data": {
      "text/html": [
       "<div>\n",
       "<style scoped>\n",
       "    .dataframe tbody tr th:only-of-type {\n",
       "        vertical-align: middle;\n",
       "    }\n",
       "\n",
       "    .dataframe tbody tr th {\n",
       "        vertical-align: top;\n",
       "    }\n",
       "\n",
       "    .dataframe thead th {\n",
       "        text-align: right;\n",
       "    }\n",
       "</style>\n",
       "<table border=\"1\" class=\"dataframe\">\n",
       "  <thead>\n",
       "    <tr style=\"text-align: right;\">\n",
       "      <th></th>\n",
       "      <th>id</th>\n",
       "      <th>text</th>\n",
       "      <th>hate_speech_idx</th>\n",
       "      <th>response</th>\n",
       "    </tr>\n",
       "  </thead>\n",
       "  <tbody>\n",
       "    <tr>\n",
       "      <th>0</th>\n",
       "      <td>1. 39869714\\n</td>\n",
       "      <td>1. i joined gab to remind myself how retarded ...</td>\n",
       "      <td>[1]</td>\n",
       "      <td>[\"Using words that insult one group while defe...</td>\n",
       "    </tr>\n",
       "    <tr>\n",
       "      <th>1</th>\n",
       "      <td>1. 39845588\\n2. \\t39848775\\n3. \\t\\t39911017\\n</td>\n",
       "      <td>1. This is what the left is really scared of. ...</td>\n",
       "      <td>[3]</td>\n",
       "      <td>['You can disagree with someones opinion witho...</td>\n",
       "    </tr>\n",
       "    <tr>\n",
       "      <th>2</th>\n",
       "      <td>1. 37485560\\n2. \\t37528625\\n</td>\n",
       "      <td>1. It makes you an asshole.\\n2. \\tGive it to a...</td>\n",
       "      <td>[2]</td>\n",
       "      <td>['Your argument is more rational if you leave ...</td>\n",
       "    </tr>\n",
       "    <tr>\n",
       "      <th>3</th>\n",
       "      <td>1. 39787626\\n2. \\t39794481\\n</td>\n",
       "      <td>1. So they manage to provide a whole lot of da...</td>\n",
       "      <td>[2]</td>\n",
       "      <td>[\"You shouldn't generalize a specific group or...</td>\n",
       "    </tr>\n",
       "    <tr>\n",
       "      <th>4</th>\n",
       "      <td>1. 37957930\\n2. \\t39953348\\n3. \\t\\t39965219\\n</td>\n",
       "      <td>1. Hi there, i,m Keith, i hope you are doing w...</td>\n",
       "      <td>[3]</td>\n",
       "      <td>['If someone is rude it is better to ignore th...</td>\n",
       "    </tr>\n",
       "    <tr>\n",
       "      <th>...</th>\n",
       "      <td>...</td>\n",
       "      <td>...</td>\n",
       "      <td>...</td>\n",
       "      <td>...</td>\n",
       "    </tr>\n",
       "    <tr>\n",
       "      <th>11820</th>\n",
       "      <td>1. 37556347\\n2. \\t37556710\\n</td>\n",
       "      <td>1. Remember this 3 months ago? The intern that...</td>\n",
       "      <td>[2]</td>\n",
       "      <td>['Using words that profanely refer to parts of...</td>\n",
       "    </tr>\n",
       "    <tr>\n",
       "      <th>11821</th>\n",
       "      <td>1. 38624662\\n2. \\t38624840\\n</td>\n",
       "      <td>1. #Sweden's four major dailies aftonbladet.se...</td>\n",
       "      <td>[2]</td>\n",
       "      <td>['Hey there, derogatory comments are not produ...</td>\n",
       "    </tr>\n",
       "    <tr>\n",
       "      <th>11822</th>\n",
       "      <td>1. 38361617\\n2. \\t38421472\\n3. \\t\\t38422734\\n</td>\n",
       "      <td>1. Satisfaction and justice\\n2. \\tBEST TRUMP I...</td>\n",
       "      <td>[3]</td>\n",
       "      <td>['Using words that negatively describes someon...</td>\n",
       "    </tr>\n",
       "    <tr>\n",
       "      <th>11823</th>\n",
       "      <td>1. 38710847\\n2. \\t38711592\\n3. \\t\\t38718122\\n</td>\n",
       "      <td>1. Twitter BANNED me and reported me to the FB...</td>\n",
       "      <td>[2, 3]</td>\n",
       "      <td>[\"I don't think using words that are sexist in...</td>\n",
       "    </tr>\n",
       "    <tr>\n",
       "      <th>11824</th>\n",
       "      <td>1. 37951623\\n</td>\n",
       "      <td>1. How absolutely unbelievably fascinating? A ...</td>\n",
       "      <td>[1]</td>\n",
       "      <td>[\"Using words that derogatorily reference a pa...</td>\n",
       "    </tr>\n",
       "  </tbody>\n",
       "</table>\n",
       "<p>11825 rows × 4 columns</p>\n",
       "</div>"
      ],
      "text/plain": [
       "                                                  id  \\\n",
       "0                                      1. 39869714\\n   \n",
       "1      1. 39845588\\n2. \\t39848775\\n3. \\t\\t39911017\\n   \n",
       "2                       1. 37485560\\n2. \\t37528625\\n   \n",
       "3                       1. 39787626\\n2. \\t39794481\\n   \n",
       "4      1. 37957930\\n2. \\t39953348\\n3. \\t\\t39965219\\n   \n",
       "...                                              ...   \n",
       "11820                   1. 37556347\\n2. \\t37556710\\n   \n",
       "11821                   1. 38624662\\n2. \\t38624840\\n   \n",
       "11822  1. 38361617\\n2. \\t38421472\\n3. \\t\\t38422734\\n   \n",
       "11823  1. 38710847\\n2. \\t38711592\\n3. \\t\\t38718122\\n   \n",
       "11824                                  1. 37951623\\n   \n",
       "\n",
       "                                                    text hate_speech_idx  \\\n",
       "0      1. i joined gab to remind myself how retarded ...             [1]   \n",
       "1      1. This is what the left is really scared of. ...             [3]   \n",
       "2      1. It makes you an asshole.\\n2. \\tGive it to a...             [2]   \n",
       "3      1. So they manage to provide a whole lot of da...             [2]   \n",
       "4      1. Hi there, i,m Keith, i hope you are doing w...             [3]   \n",
       "...                                                  ...             ...   \n",
       "11820  1. Remember this 3 months ago? The intern that...             [2]   \n",
       "11821  1. #Sweden's four major dailies aftonbladet.se...             [2]   \n",
       "11822  1. Satisfaction and justice\\n2. \\tBEST TRUMP I...             [3]   \n",
       "11823  1. Twitter BANNED me and reported me to the FB...          [2, 3]   \n",
       "11824  1. How absolutely unbelievably fascinating? A ...             [1]   \n",
       "\n",
       "                                                response  \n",
       "0      [\"Using words that insult one group while defe...  \n",
       "1      ['You can disagree with someones opinion witho...  \n",
       "2      ['Your argument is more rational if you leave ...  \n",
       "3      [\"You shouldn't generalize a specific group or...  \n",
       "4      ['If someone is rude it is better to ignore th...  \n",
       "...                                                  ...  \n",
       "11820  ['Using words that profanely refer to parts of...  \n",
       "11821  ['Hey there, derogatory comments are not produ...  \n",
       "11822  ['Using words that negatively describes someon...  \n",
       "11823  [\"I don't think using words that are sexist in...  \n",
       "11824  [\"Using words that derogatorily reference a pa...  \n",
       "\n",
       "[11825 rows x 4 columns]"
      ]
     },
     "execution_count": 9,
     "metadata": {},
     "output_type": "execute_result"
    }
   ],
   "source": [
    "data2 = pd.read_csv(os.path.join('online-hate','data','gab.csv'))  \n",
    "\n",
    "data2\n",
    "\n",
    "# sentences2 = data['tweet'].tolist()\n",
    "# labels2 = data['class'].tolist()\n"
   ]
  },
  {
   "cell_type": "code",
   "execution_count": 7,
   "metadata": {
    "id": "S1sD-7v0kYWk"
   },
   "outputs": [],
   "source": [
    "training_sentences = sentences[0:training_size]\n",
    "testing_sentences = sentences[training_size:]\n",
    "training_labels = labels[0:training_size]\n",
    "testing_labels = labels[training_size:]"
   ]
  },
  {
   "cell_type": "code",
   "execution_count": null,
   "metadata": {
    "id": "3u8UB0MCkZ5N"
   },
   "outputs": [],
   "source": [
    "tokenizer = Tokenizer(num_words=vocab_size, oov_token=oov_tok)\n",
    "tokenizer.fit_on_texts(training_sentences)\n",
    "\n",
    "word_index = tokenizer.word_index\n",
    "\n",
    "training_sequences = tokenizer.texts_to_sequences(training_sentences)\n",
    "training_padded = pad_sequences(training_sequences, maxlen=max_length, padding=padding_type, truncating=trunc_type)\n",
    "\n",
    "testing_sequences = tokenizer.texts_to_sequences(testing_sentences)\n",
    "testing_padded = pad_sequences(testing_sequences, maxlen=max_length, padding=padding_type, truncating=trunc_type)"
   ]
  },
  {
   "cell_type": "code",
   "execution_count": null,
   "metadata": {
    "id": "lTr_OCna60E5"
   },
   "outputs": [],
   "source": []
  },
  {
   "cell_type": "code",
   "execution_count": null,
   "metadata": {
    "id": "GrAlWBKf99Ya"
   },
   "outputs": [],
   "source": [
    "# Need this block to get it to work with TensorFlow 2.x\n",
    "import numpy as np\n",
    "training_padded = np.array(training_padded)\n",
    "training_labels = np.array(training_labels)\n",
    "training_labels_onehot = np.zeros((training_labels.size, training_labels.max()+1))\n",
    "training_labels_onehot[np.arange(training_labels.size),training_labels] = 1\n",
    "\n",
    "testing_padded = np.array(testing_padded)\n",
    "testing_labels = np.array(testing_labels)\n",
    "testing_labels_onehot = np.zeros((testing_labels.size, testing_labels.max()+1))\n",
    "testing_labels_onehot[np.arange(testing_labels.size),testing_labels] = 1"
   ]
  },
  {
   "cell_type": "code",
   "execution_count": null,
   "metadata": {
    "colab": {
     "base_uri": "https://localhost:8080/"
    },
    "id": "4iFKYisnBbkf",
    "outputId": "37855c03-0c73-4d7a-9119-ceb5357c3771"
   },
   "outputs": [
    {
     "data": {
      "text/plain": [
       "array([[0., 1., 0.],\n",
       "       [0., 1., 0.],\n",
       "       [0., 1., 0.],\n",
       "       ...,\n",
       "       [0., 1., 0.],\n",
       "       [0., 1., 0.],\n",
       "       [0., 0., 1.]])"
      ]
     },
     "execution_count": 45,
     "metadata": {},
     "output_type": "execute_result"
    }
   ],
   "source": [
    "testing_labels_onehot\n"
   ]
  },
  {
   "cell_type": "code",
   "execution_count": null,
   "metadata": {
    "id": "FufaT4vlkiDE"
   },
   "outputs": [],
   "source": [
    "model = tf.keras.Sequential([\n",
    "    tf.keras.layers.Embedding(vocab_size, embedding_dim, input_length=max_length),\n",
    "    tf.keras.layers.GlobalAveragePooling1D(),\n",
    "    tf.keras.layers.Dense(24, activation='relu'),\n",
    "    tf.keras.layers.Dense(3, activation='sigmoid'),\n",
    "    tf.keras.layers.Softmax()\n",
    "])\n",
    "model.compile(loss='categorical_crossentropy',optimizer='adam',metrics=['accuracy'])"
   ]
  },
  {
   "cell_type": "code",
   "execution_count": null,
   "metadata": {
    "colab": {
     "base_uri": "https://localhost:8080/"
    },
    "id": "XfDt1hmYkiys",
    "outputId": "0e33412e-c5ff-4db4-b86a-bf415d52c321"
   },
   "outputs": [
    {
     "name": "stdout",
     "output_type": "stream",
     "text": [
      "Model: \"sequential_3\"\n",
      "_________________________________________________________________\n",
      " Layer (type)                Output Shape              Param #   \n",
      "=================================================================\n",
      " embedding_3 (Embedding)     (None, 100, 16)           160000    \n",
      "                                                                 \n",
      " global_average_pooling1d_3   (None, 16)               0         \n",
      " (GlobalAveragePooling1D)                                        \n",
      "                                                                 \n",
      " dense_6 (Dense)             (None, 24)                408       \n",
      "                                                                 \n",
      " dense_7 (Dense)             (None, 3)                 75        \n",
      "                                                                 \n",
      " softmax (Softmax)           (None, 3)                 0         \n",
      "                                                                 \n",
      "=================================================================\n",
      "Total params: 160,483\n",
      "Trainable params: 160,483\n",
      "Non-trainable params: 0\n",
      "_________________________________________________________________\n"
     ]
    }
   ],
   "source": [
    "model.summary()\n"
   ]
  },
  {
   "cell_type": "code",
   "execution_count": null,
   "metadata": {
    "colab": {
     "base_uri": "https://localhost:8080/"
    },
    "id": "2DTKQFf1kkyc",
    "outputId": "5c940633-3665-44f2-e4b7-242a96d24efb"
   },
   "outputs": [
    {
     "name": "stdout",
     "output_type": "stream",
     "text": [
      "Epoch 1/30\n",
      "625/625 - 2s - loss: 0.8305 - accuracy: 0.7695 - val_loss: 0.7573 - val_accuracy: 0.7947 - 2s/epoch - 4ms/step\n",
      "Epoch 2/30\n",
      "625/625 - 2s - loss: 0.7822 - accuracy: 0.7695 - val_loss: 0.7569 - val_accuracy: 0.7947 - 2s/epoch - 3ms/step\n",
      "Epoch 3/30\n",
      "625/625 - 2s - loss: 0.7820 - accuracy: 0.7695 - val_loss: 0.7568 - val_accuracy: 0.7947 - 2s/epoch - 3ms/step\n",
      "Epoch 4/30\n",
      "625/625 - 2s - loss: 0.7820 - accuracy: 0.7695 - val_loss: 0.7568 - val_accuracy: 0.7947 - 2s/epoch - 3ms/step\n",
      "Epoch 5/30\n",
      "625/625 - 2s - loss: 0.7820 - accuracy: 0.7695 - val_loss: 0.7568 - val_accuracy: 0.7947 - 2s/epoch - 3ms/step\n",
      "Epoch 6/30\n",
      "625/625 - 2s - loss: 0.7820 - accuracy: 0.7695 - val_loss: 0.7568 - val_accuracy: 0.7947 - 2s/epoch - 3ms/step\n",
      "Epoch 7/30\n",
      "625/625 - 2s - loss: 0.7819 - accuracy: 0.7695 - val_loss: 0.7565 - val_accuracy: 0.7947 - 2s/epoch - 3ms/step\n",
      "Epoch 8/30\n",
      "625/625 - 2s - loss: 0.7457 - accuracy: 0.7982 - val_loss: 0.6873 - val_accuracy: 0.8610 - 2s/epoch - 3ms/step\n",
      "Epoch 9/30\n",
      "625/625 - 2s - loss: 0.6747 - accuracy: 0.8795 - val_loss: 0.6566 - val_accuracy: 0.8946 - 2s/epoch - 3ms/step\n",
      "Epoch 10/30\n",
      "625/625 - 2s - loss: 0.6548 - accuracy: 0.9005 - val_loss: 0.6477 - val_accuracy: 0.9030 - 2s/epoch - 3ms/step\n",
      "Epoch 11/30\n",
      "625/625 - 2s - loss: 0.6464 - accuracy: 0.9075 - val_loss: 0.6444 - val_accuracy: 0.9042 - 2s/epoch - 3ms/step\n",
      "Epoch 12/30\n",
      "625/625 - 2s - loss: 0.6410 - accuracy: 0.9125 - val_loss: 0.6422 - val_accuracy: 0.9063 - 2s/epoch - 3ms/step\n",
      "Epoch 13/30\n",
      "625/625 - 2s - loss: 0.6370 - accuracy: 0.9165 - val_loss: 0.6392 - val_accuracy: 0.9120 - 2s/epoch - 3ms/step\n",
      "Epoch 14/30\n",
      "625/625 - 2s - loss: 0.6340 - accuracy: 0.9197 - val_loss: 0.6381 - val_accuracy: 0.9130 - 2s/epoch - 3ms/step\n",
      "Epoch 15/30\n",
      "625/625 - 2s - loss: 0.6313 - accuracy: 0.9215 - val_loss: 0.6398 - val_accuracy: 0.9097 - 2s/epoch - 3ms/step\n",
      "Epoch 16/30\n",
      "625/625 - 2s - loss: 0.6296 - accuracy: 0.9230 - val_loss: 0.6373 - val_accuracy: 0.9141 - 2s/epoch - 3ms/step\n",
      "Epoch 17/30\n",
      "625/625 - 2s - loss: 0.6279 - accuracy: 0.9243 - val_loss: 0.6395 - val_accuracy: 0.9097 - 2s/epoch - 3ms/step\n",
      "Epoch 18/30\n",
      "625/625 - 2s - loss: 0.6264 - accuracy: 0.9255 - val_loss: 0.6380 - val_accuracy: 0.9122 - 2s/epoch - 3ms/step\n",
      "Epoch 19/30\n",
      "625/625 - 2s - loss: 0.6251 - accuracy: 0.9268 - val_loss: 0.6384 - val_accuracy: 0.9114 - 2s/epoch - 3ms/step\n",
      "Epoch 20/30\n",
      "625/625 - 2s - loss: 0.6240 - accuracy: 0.9272 - val_loss: 0.6396 - val_accuracy: 0.9101 - 2s/epoch - 3ms/step\n",
      "Epoch 21/30\n",
      "625/625 - 2s - loss: 0.6226 - accuracy: 0.9280 - val_loss: 0.6393 - val_accuracy: 0.9118 - 2s/epoch - 3ms/step\n",
      "Epoch 22/30\n",
      "625/625 - 2s - loss: 0.6218 - accuracy: 0.9286 - val_loss: 0.6394 - val_accuracy: 0.9109 - 2s/epoch - 3ms/step\n",
      "Epoch 23/30\n",
      "625/625 - 2s - loss: 0.6210 - accuracy: 0.9290 - val_loss: 0.6396 - val_accuracy: 0.9122 - 2s/epoch - 3ms/step\n",
      "Epoch 24/30\n",
      "625/625 - 2s - loss: 0.6201 - accuracy: 0.9294 - val_loss: 0.6401 - val_accuracy: 0.9099 - 2s/epoch - 3ms/step\n",
      "Epoch 25/30\n",
      "625/625 - 2s - loss: 0.6195 - accuracy: 0.9297 - val_loss: 0.6418 - val_accuracy: 0.9088 - 2s/epoch - 3ms/step\n",
      "Epoch 26/30\n",
      "625/625 - 2s - loss: 0.6187 - accuracy: 0.9300 - val_loss: 0.6423 - val_accuracy: 0.9082 - 2s/epoch - 3ms/step\n",
      "Epoch 27/30\n",
      "625/625 - 2s - loss: 0.6181 - accuracy: 0.9303 - val_loss: 0.6429 - val_accuracy: 0.9088 - 2s/epoch - 3ms/step\n",
      "Epoch 28/30\n",
      "625/625 - 2s - loss: 0.6172 - accuracy: 0.9308 - val_loss: 0.6412 - val_accuracy: 0.9103 - 2s/epoch - 3ms/step\n",
      "Epoch 29/30\n",
      "625/625 - 2s - loss: 0.6168 - accuracy: 0.9309 - val_loss: 0.6425 - val_accuracy: 0.9086 - 2s/epoch - 3ms/step\n",
      "Epoch 30/30\n",
      "625/625 - 2s - loss: 0.6162 - accuracy: 0.9309 - val_loss: 0.6432 - val_accuracy: 0.9080 - 2s/epoch - 3ms/step\n"
     ]
    }
   ],
   "source": [
    "num_epochs = 30\n",
    "history = model.fit(training_padded, training_labels_onehot, epochs=num_epochs, validation_data=(testing_padded, testing_labels_onehot), verbose=2)"
   ]
  },
  {
   "cell_type": "code",
   "execution_count": null,
   "metadata": {
    "colab": {
     "base_uri": "https://localhost:8080/",
     "height": 541
    },
    "id": "2HYfBKXjkmU8",
    "outputId": "3aefdef8-0588-4d2c-d583-5427d25b73aa"
   },
   "outputs": [
    {
     "data": {
      "image/png": "[encoded data removed]",
      "text/plain": [
       "<Figure size 432x288 with 1 Axes>"
      ]
     },
     "metadata": {
      "needs_background": "light"
     },
     "output_type": "display_data"
    },
    {
     "data": {
      "image/png": "[encoded data removed]",
      "text/plain": [
       "<Figure size 432x288 with 1 Axes>"
      ]
     },
     "metadata": {
      "needs_background": "light"
     },
     "output_type": "display_data"
    }
   ],
   "source": [
    "import matplotlib.pyplot as plt\n",
    "\n",
    "\n",
    "def plot_graphs(history, string):\n",
    "  plt.plot(history.history[string])\n",
    "  plt.plot(history.history['val_'+string])\n",
    "  plt.xlabel(\"Epochs\")\n",
    "  plt.ylabel(string)\n",
    "  plt.legend([string, 'val_'+string])\n",
    "  plt.show()\n",
    "  \n",
    "plot_graphs(history, \"accuracy\")\n",
    "plot_graphs(history, \"loss\")"
   ]
  },
  {
   "cell_type": "code",
   "execution_count": null,
   "metadata": {
    "colab": {
     "base_uri": "https://localhost:8080/"
    },
    "id": "7SBdAZAenvzL",
    "outputId": "8c905668-b44b-4d48-a47e-6c8b0239f8e0"
   },
   "outputs": [
    {
     "name": "stdout",
     "output_type": "stream",
     "text": [
      "rt <OOV> as a woman you shouldn't complain about cleaning up your house amp as a man you should always take the trash out ? ? ? ? ? ? ? ? ? ? ? ? ? ? ? ? ? ? ? ? ? ? ? ? ? ? ? ? ? ? ? ? ? ? ? ? ? ? ? ? ? ? ? ? ? ? ? ? ? ? ? ? ? ? ? ? ? ? ? ? ? ? ? ? ? ? ? ? ? ? ? ? ? ? ? ?\n",
      "!!!!!!! RT @UrKindOfBrand Dawg!!!! RT @80sbaby4life: You ever fuck a bitch and she start to cry? You be confused as shit\n",
      "1\n"
     ]
    }
   ],
   "source": [
    "reverse_word_index = dict([(value, key) for (key, value) in word_index.items()])\n",
    "\n",
    "def decode_sentence(text):\n",
    "    return ' '.join([reverse_word_index.get(i, '?') for i in text])\n",
    "\n",
    "print(decode_sentence(training_padded[0]))\n",
    "print(training_sentences[2])\n",
    "print(labels[2])"
   ]
  },
  {
   "cell_type": "code",
   "execution_count": null,
   "metadata": {
    "colab": {
     "base_uri": "https://localhost:8080/"
    },
    "id": "c9MqihtEkzQ9",
    "outputId": "871c33c6-e39c-4414-c877-eee786998406"
   },
   "outputs": [
    {
     "name": "stdout",
     "output_type": "stream",
     "text": [
      "(10000, 16)\n"
     ]
    }
   ],
   "source": [
    "e = model.layers[0]\n",
    "weights = e.get_weights()[0]\n",
    "print(weights.shape) # shape: (vocab_size, embedding_dim)\n"
   ]
  },
  {
   "cell_type": "code",
   "execution_count": null,
   "metadata": {
    "id": "LoBXVffknldU"
   },
   "outputs": [],
   "source": [
    "import io\n",
    "\n",
    "out_v = io.open('vecs.tsv', 'w', encoding='utf-8')\n",
    "out_m = io.open('meta.tsv', 'w', encoding='utf-8')\n",
    "for word_num in range(1, vocab_size):\n",
    "  word = reverse_word_index[word_num]\n",
    "  embeddings = weights[word_num]\n",
    "  out_m.write(word + \"\\n\")\n",
    "  out_v.write('\\t'.join([str(x) for x in embeddings]) + \"\\n\")\n",
    "out_v.close()\n",
    "out_m.close()"
   ]
  },
  {
   "cell_type": "code",
   "execution_count": null,
   "metadata": {
    "colab": {
     "base_uri": "https://localhost:8080/",
     "height": 17
    },
    "id": "U4eZ5HtVnnEE",
    "outputId": "403bbd66-40bb-4e57-a86d-5105f8decdae"
   },
   "outputs": [
    {
     "data": {
      "application/javascript": [
       "\n",
       "    async function download(id, filename, size) {\n",
       "      if (!google.colab.kernel.accessAllowed) {\n",
       "        return;\n",
       "      }\n",
       "      const div = document.createElement('div');\n",
       "      const label = document.createElement('label');\n",
       "      label.textContent = `Downloading \"${filename}\": `;\n",
       "      div.appendChild(label);\n",
       "      const progress = document.createElement('progress');\n",
       "      progress.max = size;\n",
       "      div.appendChild(progress);\n",
       "      document.body.appendChild(div);\n",
       "\n",
       "      const buffers = [];\n",
       "      let downloaded = 0;\n",
       "\n",
       "      const channel = await google.colab.kernel.comms.open(id);\n",
       "      // Send a message to notify the kernel that we're ready.\n",
       "      channel.send({})\n",
       "\n",
       "      for await (const message of channel.messages) {\n",
       "        // Send a message to notify the kernel that we're ready.\n",
       "        channel.send({})\n",
       "        if (message.buffers) {\n",
       "          for (const buffer of message.buffers) {\n",
       "            buffers.push(buffer);\n",
       "            downloaded += buffer.byteLength;\n",
       "            progress.value = downloaded;\n",
       "          }\n",
       "        }\n",
       "      }\n",
       "      const blob = new Blob(buffers, {type: 'application/binary'});\n",
       "      const a = document.createElement('a');\n",
       "      a.href = window.URL.createObjectURL(blob);\n",
       "      a.download = filename;\n",
       "      div.appendChild(a);\n",
       "      a.click();\n",
       "      div.remove();\n",
       "    }\n",
       "  "
      ],
      "text/plain": [
       "<IPython.core.display.Javascript object>"
      ]
     },
     "metadata": {},
     "output_type": "display_data"
    },
    {
     "data": {
      "application/javascript": [
       "download(\"download_b1eff573-d2e4-4605-b8be-51c182757028\", \"vecs.tsv\", 1805488)"
      ],
      "text/plain": [
       "<IPython.core.display.Javascript object>"
      ]
     },
     "metadata": {},
     "output_type": "display_data"
    },
    {
     "data": {
      "application/javascript": [
       "\n",
       "    async function download(id, filename, size) {\n",
       "      if (!google.colab.kernel.accessAllowed) {\n",
       "        return;\n",
       "      }\n",
       "      const div = document.createElement('div');\n",
       "      const label = document.createElement('label');\n",
       "      label.textContent = `Downloading \"${filename}\": `;\n",
       "      div.appendChild(label);\n",
       "      const progress = document.createElement('progress');\n",
       "      progress.max = size;\n",
       "      div.appendChild(progress);\n",
       "      document.body.appendChild(div);\n",
       "\n",
       "      const buffers = [];\n",
       "      let downloaded = 0;\n",
       "\n",
       "      const channel = await google.colab.kernel.comms.open(id);\n",
       "      // Send a message to notify the kernel that we're ready.\n",
       "      channel.send({})\n",
       "\n",
       "      for await (const message of channel.messages) {\n",
       "        // Send a message to notify the kernel that we're ready.\n",
       "        channel.send({})\n",
       "        if (message.buffers) {\n",
       "          for (const buffer of message.buffers) {\n",
       "            buffers.push(buffer);\n",
       "            downloaded += buffer.byteLength;\n",
       "            progress.value = downloaded;\n",
       "          }\n",
       "        }\n",
       "      }\n",
       "      const blob = new Blob(buffers, {type: 'application/binary'});\n",
       "      const a = document.createElement('a');\n",
       "      a.href = window.URL.createObjectURL(blob);\n",
       "      a.download = filename;\n",
       "      div.appendChild(a);\n",
       "      a.click();\n",
       "      div.remove();\n",
       "    }\n",
       "  "
      ],
      "text/plain": [
       "<IPython.core.display.Javascript object>"
      ]
     },
     "metadata": {},
     "output_type": "display_data"
    },
    {
     "data": {
      "application/javascript": [
       "download(\"download_8a593427-862a-4b50-9695-ce7797087e9d\", \"meta.tsv\", 75974)"
      ],
      "text/plain": [
       "<IPython.core.display.Javascript object>"
      ]
     },
     "metadata": {},
     "output_type": "display_data"
    }
   ],
   "source": [
    "try:\n",
    "  from google.colab import files\n",
    "except ImportError:\n",
    "  pass\n",
    "else:\n",
    "  files.download('vecs.tsv')\n",
    "  files.download('meta.tsv')"
   ]
  },
  {
   "cell_type": "code",
   "execution_count": null,
   "metadata": {
    "colab": {
     "base_uri": "https://localhost:8080/"
    },
    "id": "cG8-ArY-qDcz",
    "outputId": "31058710-31ba-4f2a-eb5b-e07b36ee9cff"
   },
   "outputs": [
    {
     "name": "stdout",
     "output_type": "stream",
     "text": [
      "[[0.21195394 0.5760921  0.21195391]\n",
      " [0.22371481 0.5525428  0.22374232]]\n"
     ]
    }
   ],
   "source": [
    "sentence = [\"granny starting to fear spiders in the garden might be real\", \"you should go kill yourself\"]\n",
    "sequences = tokenizer.texts_to_sequences(sentence)\n",
    "padded = pad_sequences(sequences, maxlen=max_length, padding=padding_type, truncating=trunc_type)\n",
    "print(model.predict(padded))"
   ]
  },
  {
   "cell_type": "code",
   "execution_count": null,
   "metadata": {
    "id": "heI_3O-SDLN6"
   },
   "outputs": [],
   "source": []
  }
 ],
 "metadata": {
  "accelerator": "GPU",
  "colab": {
   "collapsed_sections": [],
   "name": "Hate and Offensive",
   "provenance": []
  },
  "kernelspec": {
   "display_name": "Python 3 (ipykernel)",
   "language": "python",
   "name": "python3"
  },
  "language_info": {
   "codemirror_mode": {
    "name": "ipython",
    "version": 3
   },
   "file_extension": ".py",
   "mimetype": "text/x-python",
   "name": "python",
   "nbconvert_exporter": "python",
   "pygments_lexer": "ipython3",
   "version": "3.10.4"
  }
 },
 "nbformat": 4,
 "nbformat_minor": 2
}
